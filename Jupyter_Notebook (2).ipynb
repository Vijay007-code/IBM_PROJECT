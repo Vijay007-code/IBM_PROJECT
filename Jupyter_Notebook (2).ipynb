{
  "metadata": {
    "kernelspec": {
      "name": "python",
      "display_name": "Pyolite",
      "language": "python"
    },
    "language_info": {
      "codemirror_mode": {
        "name": "python",
        "version": 3
      },
      "file_extension": ".py",
      "mimetype": "text/x-python",
      "name": "python",
      "nbconvert_exporter": "python",
      "pygments_lexer": "ipython3",
      "version": "3.8"
    }
  },
  "nbformat_minor": 4,
  "nbformat": 4,
  "cells": [
    {
      "cell_type": "markdown",
      "source": "<center>\n    <img src=\"https://cf-courses-data.s3.us.cloud-object-storage.appdomain.cloud/IBMDeveloperSkillsNetwork-DS0105EN-SkillsNetwork/labs/Module2/images/SN_web_lightmode.png\" width=\"300\" alt=\"cognitiveclass.ai logo\">\n</center>\n",
      "metadata": {}
    },
    {
      "cell_type": "markdown",
      "source": "#### Add your code below following the instructions given in the course\n",
      "metadata": {}
    },
    {
      "cell_type": "markdown",
      "source": "# My Jupyter Notebook on IBM Watson Studio",
      "metadata": {}
    },
    {
      "cell_type": "markdown",
      "source": "__R VIJAY NARASIMHA__",
      "metadata": {}
    },
    {
      "cell_type": "markdown",
      "source": "DATA SCIENTIST",
      "metadata": {}
    },
    {
      "cell_type": "markdown",
      "source": "_I LOVE DATA SCIENCE BECAUSE I LOVE WORKING AND PLAYING WITH DATA_",
      "metadata": {}
    },
    {
      "cell_type": "markdown",
      "source": "### THE CODE SHOWS THE PRODUCT OF TWO NUMBERS ",
      "metadata": {}
    },
    {
      "cell_type": "code",
      "source": "NUM_1=4\nNUM_2=4\nprint(\"THE PRODUCT OF 4 AND 4 IS 16\")",
      "metadata": {
        "trusted": true
      },
      "execution_count": 2,
      "outputs": [
        {
          "name": "stdout",
          "text": "THE PRODUCT OF 4 AND 4 IS 16\n",
          "output_type": "stream"
        }
      ]
    },
    {
      "cell_type": "code",
      "source": "1. lion\n2. cat\n3. dog\n\n*lion\n*cat\n*dog\n\n",
      "metadata": {},
      "execution_count": null,
      "outputs": []
    }
  ]
}